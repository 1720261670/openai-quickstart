{
 "cells": [
  {
   "cell_type": "code",
   "execution_count": 13,
   "outputs": [
    {
     "data": {
      "image/png": "[encoded data removed]",
      "text/plain": "<IPython.core.display.Image object>"
     },
     "metadata": {},
     "output_type": "display_data"
    },
    {
     "data": {
      "text/plain": "<IPython.core.display.Markdown object>",
      "text/markdown": "## Round 1"
     },
     "metadata": {},
     "output_type": "display_data"
    },
    {
     "data": {
      "text/plain": "<IPython.core.display.Markdown object>",
      "text/markdown": "#### 写作生成:\n- 今天的天气格外宜人，天空湛蓝如洗，几朵白云悠闲地漂浮着。阳光洒在大地上，给整个城市披上一层金色的外衣，空气中弥漫着清新的气息。这样的好天气让人心情愉悦，非常适合外出走走，无论是到公园里享受自然的美景，还是在街头漫步，感受城市的活力，都让人感觉无比惬意。无论哪个选择，都是享受这美好时光的绝佳方式。\n"
     },
     "metadata": {},
     "output_type": "display_data"
    },
    {
     "data": {
      "text/plain": "<IPython.core.display.Markdown object>",
      "text/markdown": "## Round 2"
     },
     "metadata": {},
     "output_type": "display_data"
    },
    {
     "data": {
      "text/plain": "<IPython.core.display.Markdown object>",
      "text/markdown": "#### 评论反思:\n- 今天的天气格外宜人，天空湛蓝如洗，几朵白云悠闲地漂浮着，仿佛在为这美好的一天增添几分诗意。阳光洒在大地上，给整个城市披上一层金色的外衣，空气中弥漫着清新和泥土的芬芳。这样的好天气让人心情愉悦，非常适合外出走走，无论是到公园里享受自然的美景，还是在街头漫步，感受城市的活力，都让人感觉无比惬意。选择去海边，倾听海浪拍打岸边的声音，或是到郊外，呼吸新鲜空气，都是享受这美好时光的绝佳方式。\n"
     },
     "metadata": {},
     "output_type": "display_data"
    },
    {
     "data": {
      "text/plain": "<IPython.core.display.Markdown object>",
      "text/markdown": "## Round 3"
     },
     "metadata": {},
     "output_type": "display_data"
    },
    {
     "data": {
      "text/plain": "<IPython.core.display.Markdown object>",
      "text/markdown": "#### 写作生成:\n- 今天的天气格外宜人，天空湛蓝如洗，几朵白云悠闲地漂浮着，仿佛在为这美好的一天增添几分诗意。阳光洒在大地上，给整个城市披上一层金色的外衣，空气中弥漫着清新和泥土的芬芳。这样的好天气让人心情愉悦，非常适合外出走走，无论是到公园里享受自然的美景，还是在街头漫步，感受城市的活力，都让人感觉无比惬意。选择去海边，倾听海浪拍打岸边的声音，或是到郊外，呼吸新鲜空气，都是享受这美好时光的绝佳方式。无论选择哪种活动，这样的天气都让人与自然更加亲近，仿佛大自然在用它的方式欢迎每一个享受这一天的心灵。\n"
     },
     "metadata": {},
     "output_type": "display_data"
    },
    {
     "data": {
      "text/plain": "<IPython.core.display.Markdown object>",
      "text/markdown": "## Round 4"
     },
     "metadata": {},
     "output_type": "display_data"
    },
    {
     "data": {
      "text/plain": "<IPython.core.display.Markdown object>",
      "text/markdown": "#### 评论反思:\n- 今天的天气格外宜人，天空湛蓝如洗，几朵白云悠闲地漂浮着，仿佛在为这美好的一天增添几分诗意。阳光洒在大地上，给整个城市披上一层金色的外衣，空气中弥漫着清新和泥土的芬芳，令人心旷神怡。这样的好天气让人心情愉悦，非常适合外出走走。无论是到公园里享受自然的美景，还是在街头漫步，感受城市的活力，都让人感觉无比惬意。选择去海边，倾听海浪拍打岸边的声音，或是到郊外，呼吸新鲜空气，都是享受这美好时光的绝佳方式。无论选择哪种活动，这样的天气都让人与自然更加亲近，仿佛大自然在用它的方式欢迎每一个享受这一天的心灵。日光的温暖与微风的轻拂共同构成了一幅动人的画卷，让人沉浸于其中，忘却生活的纷扰。\n"
     },
     "metadata": {},
     "output_type": "display_data"
    },
    {
     "data": {
      "text/plain": "<IPython.core.display.Markdown object>",
      "text/markdown": "## Round 5"
     },
     "metadata": {},
     "output_type": "display_data"
    },
    {
     "data": {
      "text/plain": "<IPython.core.display.Markdown object>",
      "text/markdown": "#### 写作生成:\n- 今天的天气格外宜人，天空湛蓝如洗，几朵白云悠闲地漂浮着，仿佛为这美好的一天增添了几分诗意。阳光洒在大地上，给整个城市披上一层金色的外衣，空气中弥漫着清新和泥土的芬芳，令人心旷神怡。这样的好天气让人心情愉悦，非常适合外出走走。无论是到公园里享受自然的美景，还是在街头漫步，感受城市的活力，都让人感觉无比惬意。选择去海边，倾听海浪拍打岸边的声音，或是到郊外，呼吸新鲜空气，都是享受这美好时光的绝佳方式。无论选择哪种活动，这样的天气都让人与自然更加亲近，仿佛大自然在用它的方式欢迎每一个享受这一天的心灵。日光的温暖与微风的轻拂共同构成了一幅动人的画卷，让人沉浸其中，忘却生活的纷扰，尽情享受这片刻的宁静与和谐。无论是三五好友相聚，还是独自一人徜徉，这样的天气都能带来无尽的愉悦与满足。\n"
     },
     "metadata": {},
     "output_type": "display_data"
    },
    {
     "data": {
      "text/plain": "<IPython.core.display.Markdown object>",
      "text/markdown": "## Round 6"
     },
     "metadata": {},
     "output_type": "display_data"
    },
    {
     "data": {
      "text/plain": "<IPython.core.display.Markdown object>",
      "text/markdown": "#### 评论反思:\n- 今天的天气格外宜人，天空湛蓝如洗，几朵白云悠闲地漂浮着，仿佛为这美好的一天增添了几分诗意。阳光洒在大地上，给整个城市披上一层金色的外衣，空气中弥漫着清新和泥土的芬芳，令人心旷神怡。这样的好天气让人心情愉悦，非常适合外出走走。无论是到公园里享受自然的美景，还是在街头漫步，感受城市的活力，都让人感觉无比惬意。选择去海边，倾听海浪拍打岸边的声音，或是到郊外，呼吸新鲜空气，都是享受这美好时光的绝佳方式。无论选择哪种活动，这样的天气都让人与自然更加亲近，仿佛大自然在用它的方式欢迎每一个享受这一天的心灵。日光的温暖与微风的轻拂共同构成了一幅动人的画卷，让人沉浸其中，忘却生活的纷扰，尽情享受这片刻的宁静与和谐。无论是三五好友相聚，露天野餐，还是独自一人徜徉，思考人生，这样的天气都能带来无尽的愉悦与满足，仿佛生活的美好在这一刻尽情展现。\n"
     },
     "metadata": {},
     "output_type": "display_data"
    },
    {
     "data": {
      "text/plain": "<IPython.core.display.Markdown object>",
      "text/markdown": "## Round 7"
     },
     "metadata": {},
     "output_type": "display_data"
    },
    {
     "data": {
      "text/plain": "<IPython.core.display.Markdown object>",
      "text/markdown": "#### 写作生成:\n- 今天的天气格外宜人，天空湛蓝如洗，几朵白云悠闲地漂浮着，为这美好的一天增添了几分诗意。阳光洒在大地上，给整个城市披上一层金色的外衣，空气中弥漫着清新和泥土的芬芳，令人心旷神怡。这样的好天气让人心情愉悦，非常适合外出走走。无论是到公园里享受自然的美景，还是在街头漫步，感受城市的活力，都让人感觉无比惬意。选择去海边，倾听海浪拍打岸边的声音，或是到郊外，呼吸新鲜空气，都是享受这美好时光的绝佳方式。无论选择哪种活动，这样的天气都让人与自然更加亲近，仿佛大自然在用它的方式欢迎每一个享受这一天的心灵。日光的温暖与微风的轻拂共同构成了一幅动人的画卷，让人沉浸其中，忘却生活的纷扰，尽情享受这片刻的宁静与和谐。无论是三五好友相聚，享受一次露天野餐，还是独自一人徜徉，思考人生，这样的天气都能带来无尽的愉悦与满足，仿佛生活的美好在这一刻尽情展现。每一缕阳光都在诉说着温暖，每一阵微风都在传递着轻松，让人感受到生活的简单与纯粹。\n"
     },
     "metadata": {},
     "output_type": "display_data"
    }
   ],
   "source": [
    "import os\n",
    "from typing import Annotated, Dict, List\n",
    "from langchain_core.messages import AIMessage, HumanMessage\n",
    "from langchain_core.prompts import ChatPromptTemplate, MessagesPlaceholder\n",
    "from langchain_ollama.chat_models import ChatOllama\n",
    "from langgraph.graph import END, StateGraph, START\n",
    "from langgraph.graph.message import add_messages\n",
    "from langgraph.checkpoint.memory import MemorySaver\n",
    "from typing_extensions import TypedDict\n",
    "from IPython.display import Markdown, display, Image\n",
    "from langchain_openai import ChatOpenAI\n",
    "\n",
    "\n",
    "# 在 LangSmith 中添加追踪功能\n",
    "os.environ[\"LANGCHAIN_TRACING_V2\"] = \"true\"\n",
    "os.environ[\"LANGCHAIN_PROJECT\"] = \"Generic_Generation\"\n",
    "api_key = os.getenv(\"OPENAI_API_KEY\")\n",
    "# 定义生成任务类型\n",
    "class GenerationTask:\n",
    "    def __init__(self, task_type: str, prompt_template: str, model_config: Dict):\n",
    "        self.task_type = task_type\n",
    "        self.prompt_template = prompt_template\n",
    "        self.model_config = model_config\n",
    "\n",
    "# 定义生成任务配置 写作 编码 报告 编辑\n",
    "TASK_CONFIG = {\n",
    "    \"writing\": GenerationTask(\n",
    "        task_type=\"writing\",\n",
    "        prompt_template=\"You are a writing assistant tasked with creating well-crafted, coherent, and engaging {task_description}.\",\n",
    "        model_config={\"model\": \"llama3.1:latest\", \"max_tokens\": 8192, \"temperature\": 1.2}\n",
    "    ),\n",
    "    \"coding\": GenerationTask(\n",
    "        task_type=\"coding\",\n",
    "        prompt_template=\"You are a coding assistant tasked with generating {task_description}.\",\n",
    "        model_config={\"model\": \"llama3.1:latest\", \"max_tokens\": 8192, \"temperature\": 0.8}\n",
    "    ),\n",
    "    \"report\": GenerationTask(\n",
    "        task_type=\"report\",\n",
    "        prompt_template=\"You are a report writing assistant tasked with creating a detailed and structured {task_description}.\",\n",
    "        model_config={\"model\": \"llama3.1:latest\", \"max_tokens\": 8192, \"temperature\": 0.5}\n",
    "    ),\n",
    "    \"editing\": GenerationTask(\n",
    "        task_type=\"editing\",\n",
    "        prompt_template=\"You are an editing assistant tasked with improving the following content based on the instructions: {task_description}.\",\n",
    "        model_config={\"model\": \"llama3.1:latest\", \"max_tokens\": 8192, \"temperature\": 0.7}\n",
    "    )\n",
    "}\n",
    "\n",
    "# 根据任务类型获取生成器和提示模板\n",
    "def get_generator_and_prompt(task_type: str, task_description: str):\n",
    "    task = TASK_CONFIG.get(task_type)\n",
    "    if not task:\n",
    "        raise ValueError(f\"Unsupported task type: {task_type}\")\n",
    "\n",
    "    prompt_template = ChatPromptTemplate.from_messages(\n",
    "        [\n",
    "            (\"system\", task.prompt_template.format(task_description=task_description)),\n",
    "            MessagesPlaceholder(variable_name=\"messages\"),\n",
    "        ]\n",
    "    )\n",
    "\n",
    "    # generator = prompt_template | ChatOllama(**task.model_config)\n",
    "    generator = prompt_template | ChatOpenAI(openai_api_key=api_key,model=\"gpt-4o\")\n",
    "\n",
    "    return generator, prompt_template\n",
    "\n",
    "# 定义状态类，使用TypedDict以保存消息\n",
    "class State(TypedDict):\n",
    "    messages: Annotated[List, add_messages]\n",
    "\n",
    "# 异步生成节点函数：生成内容（如作文、代码、报告等）\n",
    "async def generation_node(state: State) -> State:\n",
    "    task_input = state[\"messages\"][0].content\n",
    "    task_type = task_input.split(\":\")[0]\n",
    "    edit_instruction = task_input.split(\":\")[1]\n",
    "    task_description = task_input.split(\":\")[2]\n",
    "\n",
    "    # 如果是编辑任务，提取原始内容和编辑指令\n",
    "    if task_type == \"editing\":\n",
    "        if \"{\" in task_description and \"}\" in task_description:\n",
    "            original_content = task_description.split(\"{\")[1].split(\"}\")[0]\n",
    "            task_description = f\"Edit instruction: {edit_instruction}\\nOriginal content: {original_content}\"\n",
    "        else:\n",
    "            raise ValueError(\"Editing task must include original content and edit instruction in the format: editing:instruction:{original_content}\")\n",
    "\n",
    "    generator, _ = get_generator_and_prompt(task_type, task_description)\n",
    "    return {\"messages\": [await generator.ainvoke(state['messages'])]}\n",
    "\n",
    "# 异步反思节点函数：对生成的内容进行反思和反馈\n",
    "async def reflection_node(state: State) -> State:\n",
    "    cls_map = {\"ai\": HumanMessage, \"human\": AIMessage}\n",
    "    translated = [state['messages'][0]] + [\n",
    "        cls_map[msg.type](content=msg.content) for msg in state['messages'][1:]\n",
    "    ]\n",
    "    task_type = state[\"messages\"][0].content.split(\":\")[0]\n",
    "    task_description = state[\"messages\"][0].content.split(\":\")[1]\n",
    "    _, prompt_template = get_generator_and_prompt(task_type, task_description)\n",
    "    reflect = prompt_template | ChatOpenAI(openai_api_key=api_key,model=\"gpt-4o\")\n",
    "    # reflect = prompt_template | ChatOllama(model=\"llama3.1:latest\", max_tokens=8192, temperature=0.2)\n",
    "    res = await reflect.ainvoke(translated)\n",
    "    return {\"messages\": [HumanMessage(content=res.content)]}\n",
    "\n",
    "MAX_ROUND = 6\n",
    "\n",
    "# 定义条件函数，决定是否继续反思过程\n",
    "def should_continue(state: State):\n",
    "    if len(state[\"messages\"]) > MAX_ROUND:\n",
    "        return END\n",
    "    return \"reflect\"\n",
    "\n",
    "# 创建状态图，传入初始状态结构\n",
    "builder = StateGraph(State)\n",
    "builder.add_node(\"writer\", generation_node)\n",
    "builder.add_node(\"reflect\", reflection_node)\n",
    "builder.add_edge(START, \"writer\")\n",
    "builder.add_conditional_edges(\"writer\", should_continue)\n",
    "builder.add_edge(\"reflect\", \"writer\")\n",
    "\n",
    "# 创建内存保存机制，允许在流程中保存中间状态和检查点\n",
    "memory = MemorySaver()\n",
    "\n",
    "# 编译状态图，使用检查点机制\n",
    "graph = builder.compile(checkpointer=memory)\n",
    "\n",
    "# 可视化图\n",
    "try:\n",
    "    display(Image(graph.get_graph(xray=True).draw_mermaid_png()))\n",
    "except Exception as e:\n",
    "    print(f\"Error generating graph: {e}\")\n",
    "\n",
    "# 定义装饰器，记录函数调用次数\n",
    "def track_steps(func):\n",
    "    step_counter = {'count': 0}\n",
    "    def wrapper(event, *args, **kwargs):\n",
    "        step_counter['count'] += 1\n",
    "        display(Markdown(f\"## Round {step_counter['count']}\"))\n",
    "        return func(event, *args, **kwargs)\n",
    "    return wrapper\n",
    "\n",
    "# 使用装饰器装饰 pretty_print_event_markdown 函数\n",
    "@track_steps\n",
    "def pretty_print_event_markdown(event):\n",
    "    if 'writer' in event:\n",
    "        generate_md = \"#### 写作生成:\\n\"\n",
    "        for message in event['writer']['messages']:\n",
    "            generate_md += f\"- {message.content}\\n\"\n",
    "        display(Markdown(generate_md))\n",
    "    if 'reflect' in event:\n",
    "        reflect_md = \"#### 评论反思:\\n\"\n",
    "        for message in event['reflect']['messages']:\n",
    "            reflect_md += f\"- {message.content}\\n\"\n",
    "        display(Markdown(reflect_md))\n",
    "\n",
    "# inputs = {\n",
    "#     \"messages\": [\n",
    "#         HumanMessage(content=\"writing:参考西游记唐僧的说话风格，写一篇奉劝年轻人努力工作的文章\")\n",
    "#     ],\n",
    "# }\n",
    "#\n",
    "# config = {\"configurable\": {\"thread_id\": \"1\"}}\n",
    "#\n",
    "# async for event in graph.astream(inputs, config):\n",
    "#     pretty_print_event_markdown(event)\n",
    "\n",
    "\n",
    "inputs = {\n",
    "    \"messages\": [\n",
    "        HumanMessage(content=\"editing:扩展以下文本，更加丰富，字数100字:{今天的天气很好，阳光明媚，适合外出。}\")\n",
    "    ],\n",
    "}\n",
    "\n",
    "config = {\"configurable\": {\"thread_id\": \"2\"}}\n",
    "\n",
    "async for event in graph.astream(inputs, config):\n",
    "    pretty_print_event_markdown(event)"
   ],
   "metadata": {
    "collapsed": false
   }
  },
  {
   "cell_type": "code",
   "execution_count": 3,
   "outputs": [
    {
     "data": {
      "text/plain": "<IPython.core.display.Markdown object>",
      "text/markdown": "## Round 1"
     },
     "metadata": {},
     "output_type": "display_data"
    },
    {
     "data": {
      "text/plain": "<IPython.core.display.Markdown object>",
      "text/markdown": "#### 写作生成:\n- 当然！下面是一个Python函数，用于计算斐波那契数列：\n\n```python\ndef fibonacci(n):\n    \"\"\"\n    计算斐波那契数列的第n项。\n    \n    参数:\n    n -- 非负整数，表示所需斐波那契数列中的位置。\n    \n    返回:\n    斐波那契数列的第n项。\n    \"\"\"\n    if n < 0:\n        raise ValueError(\"n必须是非负整数\")\n    elif n == 0:\n        return 0\n    elif n == 1:\n        return 1\n    else:\n        a, b = 0, 1\n        for _ in range(2, n + 1):\n            a, b = b, a + b\n        return b\n\n# 示例用法\nfor i in range(10):\n    print(f\"Fibonacci({i}) = {fibonacci(i)}\")\n```\n\n这个函数使用迭代的方法来计算斐波那契数列。它通过不断更新两个变量`a`和`b`来获取数列中的下一个数字。这样的方法比递归更为高效，尤其是对于较大的`n`值。\n"
     },
     "metadata": {},
     "output_type": "display_data"
    },
    {
     "data": {
      "text/plain": "<IPython.core.display.Markdown object>",
      "text/markdown": "## Round 2"
     },
     "metadata": {},
     "output_type": "display_data"
    },
    {
     "data": {
      "text/plain": "<IPython.core.display.Markdown object>",
      "text/markdown": "#### 评论反思:\n- 这是一个用于计算斐波那契数列的Python函数，该函数使用迭代方法，可以有效地计算第`n`项的值：\n\n```python\ndef fibonacci(n):\n    \"\"\"\n    计算斐波那契数列的第n项。\n    \n    参数:\n    n -- 非负整数，表示所需斐波那契数列中的位置。\n    \n    返回:\n    斐波那契数列的第n项。\n    \"\"\"\n    if n < 0:\n        raise ValueError(\"n必须是非负整数\")\n    elif n == 0:\n        return 0\n    elif n == 1:\n        return 1\n    else:\n        a, b = 0, 1\n        for _ in range(2, n + 1):\n            a, b = b, a + b\n        return b\n\n# 示例用法\nfor i in range(10):\n    print(f\"Fibonacci({i}) = {fibonacci(i)}\")\n```\n\n### 说明：\n\n- **参数**: 函数接收一个非负整数`n`，表示斐波那契数列中所需的项。\n- **返回值**: 返回斐波那契数列的第`n`项。\n- **方法**: 使用迭代计算，避免了递归的堆栈溢出问题，同时具有较好的性能。\n- **示例**: 通过循环调用函数来计算和打印前10项的斐波那契数值。\n"
     },
     "metadata": {},
     "output_type": "display_data"
    },
    {
     "data": {
      "text/plain": "<IPython.core.display.Markdown object>",
      "text/markdown": "## Round 3"
     },
     "metadata": {},
     "output_type": "display_data"
    },
    {
     "data": {
      "text/plain": "<IPython.core.display.Markdown object>",
      "text/markdown": "#### 写作生成:\n- 你的描述和代码已经很好地解释了如何使用迭代方法计算斐波那契数列。为了补充，我将提供一些额外的细节和变体，以便更好地理解和扩展这个主题。\n\n### 详细说明\n\n1. **迭代方法的优点**:\n   - 迭代方法避免了递归的深度问题，因此在计算较大的`n`时更为高效。\n   - 该方法使用常数级的空间复杂度，因为只需要维护两个变量来追踪前两个斐波那契数。\n\n2. **代码工作原理**:\n   - 初始条件：`a`和`b`分别用来储存第0项和第1项的值（即`Fibonacci(0) = 0`和`Fibonacci(1) = 1`）。\n   - 通过一个循环，从第2项开始计算，每次迭代更新`a`和`b`，使`b`成为当前斐波那契数，`a`成为前一项。\n   - 迭代结束后，`b`即为所求的第`n`项的斐波那契数。\n\n3. **变体**:\n   - **递归方法**: 尽管不如迭代方法高效，但递归方法可以用于小`n`值的简易实现。\n   - **动态规划**: 可以使用数组来保存每一步的计算结果，避免重复计算。\n   - **矩阵快速幂**: 对于非常大的`n`，使用矩阵快速幂法可以在对数时间复杂度内计算斐波那契数。\n\n### 示例代码拓展\n\n如果你想尝试其他方法，比如递归或动态规划，这里有一个递归实现的示例（仅适用于小`n`，因为它的时间复杂度较高）：\n\n```python\ndef fibonacci_recursive(n):\n    if n < 0:\n        raise ValueError(\"n必须是非负整数\")\n    elif n == 0:\n        return 0\n    elif n == 1:\n        return 1\n    else:\n        return fibonacci_recursive(n - 1) + fibonacci_recursive(n - 2)\n\n# 示例用法\nfor i in range(10):\n    print(f\"Fibonacci({i}) = {fibonacci_recursive(i)}\")\n```\n\n这种递归实现虽然直观，但在计算较大`n`时效率不高，主要用于学习和理解递归思想。对于实际应用，推荐使用迭代或动态规划方法。\n"
     },
     "metadata": {},
     "output_type": "display_data"
    },
    {
     "data": {
      "text/plain": "<IPython.core.display.Markdown object>",
      "text/markdown": "## Round 4"
     },
     "metadata": {},
     "output_type": "display_data"
    },
    {
     "data": {
      "text/plain": "<IPython.core.display.Markdown object>",
      "text/markdown": "#### 评论反思:\n- 你提供了一个很好的扩展和详细说明！下面，我将总结并展示一些不同的方法来计算斐波那契数列，以便更好地理解和选择适合特定需求的方法。\n\n### 1. 迭代方法\n这种方法效率高，适合大多数情况下的使用。\n\n```python\ndef fibonacci_iterative(n):\n    if n < 0:\n        raise ValueError(\"n必须是非负整数\")\n    elif n == 0:\n        return 0\n    elif n == 1:\n        return 1\n    else:\n        a, b = 0, 1\n        for _ in range(2, n + 1):\n            a, b = b, a + b\n        return b\n```\n\n### 2. 递归方法\n递归方法直观，但由于重复计算，效率较低，适合小`n`值。\n\n```python\ndef fibonacci_recursive(n):\n    if n < 0:\n        raise ValueError(\"n必须是非负整数\")\n    elif n == 0:\n        return 0\n    elif n == 1:\n        return 1\n    else:\n        return fibonacci_recursive(n - 1) + fibonacci_recursive(n - 2)\n```\n\n### 3. 动态规划\n动态规划通过存储中间结果来提高效率。\n\n```python\ndef fibonacci_dynamic(n):\n    if n < 0:\n        raise ValueError(\"n必须是非负整数\")\n    elif n == 0:\n        return 0\n    elif n == 1:\n        return 1\n    fib = [0] * (n + 1)\n    fib[1] = 1\n    for i in range(2, n + 1):\n        fib[i] = fib[i - 1] + fib[i - 2]\n    return fib[n]\n```\n\n### 4. 矩阵快速幂\n这种方法适合计算非常大的`n`，时间复杂度为O(log n)。\n\n```python\nimport numpy as np\n\ndef fibonacci_matrix(n):\n    if n < 0:\n        raise ValueError(\"n必须是非负整数\")\n    elif n == 0:\n        return 0\n    elif n == 1:\n        return 1\n\n    def matrix_power(mat, power):\n        result = np.identity(2, dtype=int)\n        base = mat\n        while power:\n            if power % 2 == 1:\n                result = np.dot(result, base)\n            base = np.dot(base, base)\n            power //= 2\n        return result\n\n    F = np.array([[1, 1], [1, 0]], dtype=int)\n    result = matrix_power(F, n - 1)\n    return result[0][0]\n\n# 示例用法\nfor i in range(10):\n    print(f\"Fibonacci({i}) = {fibonacci_matrix(i)}\")\n```\n\n### 总结\n\n- **迭代方法**: 适合一般应用，空间和时间效率都很高。\n- **递归方法**: 用于理解递归思想，但效率较低。\n- **动态规划**: 在需要记忆化计算时使用，时间和空间复杂度均为O(n)。\n- **矩阵快速幂**: 适合计算非常大的`n`，具有优异的性能。\n\n选择合适的方法取决于具体的应用场景和`n`的大小。\n"
     },
     "metadata": {},
     "output_type": "display_data"
    },
    {
     "data": {
      "text/plain": "<IPython.core.display.Markdown object>",
      "text/markdown": "## Round 5"
     },
     "metadata": {},
     "output_type": "display_data"
    },
    {
     "data": {
      "text/plain": "<IPython.core.display.Markdown object>",
      "text/markdown": "#### 写作生成:\n- 你的总结非常全面，清晰地展示了不同方法在计算斐波那契数列时的优缺点和适用情境。让我们回顾一下每种方法的关键点，并提供一些建议，以帮助更好地选择适合特定需求的方法。\n\n### 方法概述与建议\n\n#### 1. 迭代方法\n- **优点**: 简单直接，时间复杂度O(n)，空间复杂度O(1)。\n- **适用场景**: 大多数一般情况下都适用，尤其是当`n`的值不是特别大且希望节省内存时。\n\n#### 2. 递归方法\n- **优点**: 代码简洁，易于理解递归的思想。\n- **缺点**: 存在大量重复计算，时间复杂度为O(2^n)，不适合大`n`。\n- **适用场景**: 主要用于教育目的或处理小规模问题。\n\n#### 3. 动态规划\n- **优点**: 消除递归中的重复计算，时间复杂度O(n)，空间复杂度O(n)。\n- **适用场景**: 适合需要记忆化的场景，或当需要输出整个斐波那契序列时。\n\n#### 4. 矩阵快速幂\n- **优点**: 时间复杂度O(log n)，适合非常大的`n`。\n- **缺点**: 实现稍复杂，需要了解矩阵运算。\n- **适用场景**: 大规模计算时表现出色，尤其是在`n`非常大时。\n\n### 实际应用建议\n- 在大多数情况下，迭代方法是首选，因为它在效率和实现复杂度之间取得了很好的平衡。\n- 如果你对算法的性能要求极高，并且需要处理非常大的`n`，矩阵快速幂是很好的选择。\n- 当进行教学或理解递归概念时，可以使用递归方法，尽管在实际应用中它的性能欠佳。\n- 动态规划适合需要反复计算斐波那契数列多次的场景，因为它可以很容易地进行修改来支持自底向上的计算方式。\n\n通过这些分析和总结，你可以根据具体需求和约束条件选择合适的方法来计算斐波那契数列。\n"
     },
     "metadata": {},
     "output_type": "display_data"
    },
    {
     "data": {
      "text/plain": "<IPython.core.display.Markdown object>",
      "text/markdown": "## Round 6"
     },
     "metadata": {},
     "output_type": "display_data"
    },
    {
     "data": {
      "text/plain": "<IPython.core.display.Markdown object>",
      "text/markdown": "#### 评论反思:\n- 你的总结为选择不同的方法提供了很好的指导。以下是对每种方法的关键点及其应用建议的回顾和补充：\n\n### 方法概述与建议\n\n#### 1. 迭代方法\n- **优点**:\n  - 实现简单，代码可读性高。\n  - 时间复杂度为O(n)，空间复杂度为O(1)。\n- **适用场景**:\n  - 适用于几乎所有的实际应用，尤其是当`n`值适中且需要优化内存使用时。\n  \n#### 2. 递归方法\n- **优点**:\n  - 代码简洁，非常适合用来展示递归的思想。\n- **缺点**:\n  - 由于大量的重复计算，时间复杂度为O(2^n)，性能极差。\n  - 递归深度较大时可能导致栈溢出。\n- **适用场景**:\n  - 教学和演示递归思想。\n  - 小规模问题或受到递归深度限制的情况。\n\n#### 3. 动态规划\n- **优点**:\n  - 通过存储中间结果消除重复计算。\n  - 时间复杂度为O(n)，空间复杂度可以为O(n)或者通过优化降为O(1)。\n- **适用场景**:\n  - 需要完整斐波那契数列的场景。\n  - 重复计算多个`n`值时。\n\n#### 4. 矩阵快速幂\n- **优点**:\n  - 时间复杂度为O(log n)，非常高效。\n  - 适用于计算非常大的`n`值。\n- **缺点**:\n  - 实现复杂度较高，需要矩阵运算的基础知识。\n- **适用场景**:\n  - 需要处理非常大的`n`时。\n  - 高性能计算要求的场合。\n\n### 实际应用建议\n\n- **迭代方法**是大多数情况下的首选，特别是在需要一个简单且高效解法的时候。\n- **矩阵快速幂**适合需要快速计算超大`n`的场景，尤其是在性能是优先考量时。\n- **递归方法**可以用于学习和理解递归，但在实际应用中，建议避免使用。\n- **动态规划**是非常灵活的选择，尤其适合需要多次计算或输出整个序列的情境。\n\n通过理解这些方法的优缺点和适用场景，你可以更好地选择适合你的具体需求的方法来计算斐波那契数列。\n"
     },
     "metadata": {},
     "output_type": "display_data"
    },
    {
     "data": {
      "text/plain": "<IPython.core.display.Markdown object>",
      "text/markdown": "## Round 7"
     },
     "metadata": {},
     "output_type": "display_data"
    },
    {
     "data": {
      "text/plain": "<IPython.core.display.Markdown object>",
      "text/markdown": "#### 写作生成:\n- 你的回顾和补充非常全面，为选择适合不同需求的斐波那契数列计算方法提供了清晰的指导。每种方法都有其独特的优点和适用场景，根据具体的需求和性能要求，可以选择最合适的方式来实现。为了进一步帮助理解和选择，下面将提供一些实际应用情况下的选择策略：\n\n### 实际应用选择策略\n\n1. **简单应用或教育目的**:\n   - **选择迭代方法**: 这是实现最简单且性能良好的方法，适合大多数普通应用场景。\n   - **选择递归方法**: 适合用来教学和展示递归的基本概念，但在实际应用中应谨慎使用。\n\n2. **性能和效率优先**:\n   - **选择矩阵快速幂**: 当需要处理非常大的`n`且效率是关键时，这种方法可以在对数时间内完成计算，非常适合高性能需求的应用。\n\n3. **多次计算或批量计算**:\n   - **选择动态规划**: 如果需要计算多个不同的斐波那契数，或者需要完整的数列来支持进一步的计算，动态规划方法能够通过存储中间结果来提升效率。\n\n4. **内存使用限制**:\n   - **选择迭代方法**: 由于其空间复杂度为O(1)，非常适合在内存使用受到限制的场合。\n\n### 实现注意事项\n\n- 在实际应用中，务必根据具体的`n`值范围和计算频率来选择合适的方法，以确保既能满足性能需求，又能保持代码的可读性和可维护性。\n- 对于需要处理超大`n`值的应用，确保所用的语言和库支持大整数运算，以避免溢出问题。\n- 在高并发环境下，可能需要考虑线程安全和同步问题，尤其是在使用动态规划时。\n\n通过综合考虑这些因素，开发者可以更好地从多个实现中选择出最适合当前需求的斐波那契数列计算方法。\n"
     },
     "metadata": {},
     "output_type": "display_data"
    }
   ],
   "source": [
    "inputs = {\n",
    "    \"messages\": [\n",
    "        HumanMessage(content=\"coding:生成一个Python函数，计算斐波那契数列\")\n",
    "    ],\n",
    "}\n",
    "\n",
    "config = {\"configurable\": {\"thread_id\": \"3\"}}\n",
    "\n",
    "async for event in graph.astream(inputs, config):\n",
    "    pretty_print_event_markdown(event)"
   ],
   "metadata": {
    "collapsed": false
   }
  }
 ],
 "metadata": {
  "kernelspec": {
   "display_name": "Python 3",
   "language": "python",
   "name": "python3"
  },
  "language_info": {
   "codemirror_mode": {
    "name": "ipython",
    "version": 2
   },
   "file_extension": ".py",
   "mimetype": "text/x-python",
   "name": "python",
   "nbconvert_exporter": "python",
   "pygments_lexer": "ipython2",
   "version": "2.7.6"
  }
 },
 "nbformat": 4,
 "nbformat_minor": 0
}
