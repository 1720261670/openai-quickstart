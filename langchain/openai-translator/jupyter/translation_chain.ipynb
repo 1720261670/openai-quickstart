{
 "cells": [
  {
   "attachments": {},
   "cell_type": "markdown",
   "id": "69cb775b-eb44-4e95-83c2-c087947d7ae4",
   "metadata": {},
   "source": [
    "# Multilingual translation by gemma-2-2B\n",
    "\n",
    "## Project Overview\n",
    "\n",
    "This project utilizes the `Ollama` and `LangChain` libraries to create a translation pipeline using a large language model (LLM) for professional translation tasks. The translation chain is designed to handle multiple languages while preserving the original content's format.\n",
    "\n",
    "## Dependencies\n",
    "\n",
    "### Ollama\n",
    "\n",
    "`Ollama` is a library that provides access to advanced language models. In this project, we are using the `Gemma 2` model provided by `Ollama`, which is a multilingual model capable of understanding and generating text in various languages. The model is initialized with the specific version `gemma2:2b`.\n",
    "\n",
    "**Installation:**\n",
    "\n",
    "You can install the `Ollama` library using pip:\n",
    "\n",
    "```bash\n",
    "pip install langchain-community\n",
    "```\n",
    "\n",
    "### LangChain\n",
    "\n",
    "`LangChain` is a versatile framework designed to simplify the development of applications that use language models. It provides various utilities and abstractions to create complex workflows with language models. In this project, `LangChain` is used to create a `PromptTemplate` and a `LLMChain` to define and execute the translation task.\n",
    "\n",
    "**Installation:**\n",
    "\n",
    "You can install the `LangChain` library using pip:\n",
    "\n",
    "```bash\n",
    "pip install langchain\n",
    "```\n",
    "\n",
    "## How It Works\n",
    "\n",
    "1. **Prompt Template:** A `PromptTemplate` is created to define the structure of the translation prompt, which instructs the model to perform a translation task while preserving the original format.\n",
    "\n",
    "2. **LLM Initialization:** The `Ollama` model `Gemma 2` is initialized with a specific version to handle the translation task.\n",
    "\n",
    "3. **Translation Chain:** A `LLMChain` is created by linking the initialized LLM with the prompt template. This chain is then executed with specific inputs to perform the translation.\n",
    "\n",
    "## Example Usage\n",
    "\n",
    "The following code snippet demonstrates how to translate a Chinese sentence into English:\n",
    "\n",
    "```python\n",
    "translateion_chain.run({\n",
    "    \"source_language\": \"Chinese\",\n",
    "    \"target_language\": \"English\",\n",
    "    \"text\": \"我喜欢学习大语言模型，轻松简单又愉快\",\n",
    "})\n",
    "```\n",
    "\n",
    "This setup allows for efficient and professional translations across various languages using state-of-the-art language models.\n",
    "\n",
    "## LangChain Workflow\n",
    "\n",
    "![](../../jupyter/images/model_io.jpeg)"
   ]
  },
  {
   "cell_type": "markdown",
   "id": "715e6a10-23e0-4a54-9b45-4f978196153c",
   "metadata": {},
   "source": [
    "## Prompt Design\n",
    "\n",
    "**Techniques Used in the Translation Prompt Template**\n",
    "\n",
    "1. **Role Assignment:** The prompt explicitly assigns the role of a \"professional translator\" to the model, guiding it to adopt a specific expertise in translation.\n",
    "2. **Task Specification:** It clearly defines the task—translating from one language to another—ensuring that the model focuses solely on this objective.\n",
    "3. **Format Preservation:** By instructing the model to \"keep the format,\" the prompt ensures that the translated content retains the original structure, which is critical for maintaining coherence.\n",
    "4. **Brevity:** The prompt avoids unnecessary explanations, streamlining the model's focus on executing the translation efficiently and accurately."
   ]
  },
  {
   "cell_type": "code",
   "execution_count": 1,
   "id": "9fb67502-85ba-47a8-80c2-2f608ab1fcfa",
   "metadata": {},
   "outputs": [],
   "source": [
    "# Define a template for the translation prompt\n",
    "template = \"\"\"\n",
    "You are a professional translator, skilled in a variety of areas of knowledge, renowned for rigorous content and format.\n",
    "\n",
    "Task:\n",
    "Translate {source_language} to {target_language} and keep the format. No more explanation.\n",
    "\n",
    "Source Content:\n",
    "{text}\n",
    "\"\"\""
   ]
  },
  {
   "cell_type": "code",
   "execution_count": 2,
   "id": "d9433235-20ec-4a35-bffb-60b0e223dbe1",
   "metadata": {},
   "outputs": [],
   "source": [
    "from langchain.prompts import PromptTemplate\n",
    "\n",
    "# Create a PromptTemplate instance using the template and specifying input variables\n",
    "prompt = PromptTemplate(\n",
    "    input_variables=[\"source_language\", \"target_language\", \"text\"],\n",
    "    template=template,\n",
    ")"
   ]
  },
  {
   "cell_type": "code",
   "execution_count": 3,
   "id": "05365b5f-a944-4c2f-9e70-6dc8657ec26a",
   "metadata": {},
   "outputs": [],
   "source": [
    "from langchain_community.llms import Ollama\n",
    "\n",
    "# Initialize an instance of the Ollama LLM with the Gemma 2 model\n",
    "llm = Ollama(model=\"gemma2:2b\")"
   ]
  },
  {
   "cell_type": "code",
   "execution_count": 4,
   "id": "e4a497d1-b525-48b9-8f97-547c87e3f218",
   "metadata": {},
   "outputs": [
    {
     "name": "stderr",
     "output_type": "stream",
     "text": [
      "/home/ubuntu/miniconda3/envs/langchain/lib/python3.10/site-packages/langchain_core/_api/deprecation.py:141: LangChainDeprecationWarning: The class `LLMChain` was deprecated in LangChain 0.1.17 and will be removed in 1.0. Use RunnableSequence, e.g., `prompt | llm` instead.\n",
      "  warn_deprecated(\n"
     ]
    }
   ],
   "source": [
    "from langchain.chains import LLMChain\n",
    "\n",
    "# Create a translation chain by linking the LLM with the prompt\n",
    "translation_chain = LLMChain(llm=llm, prompt=prompt)"
   ]
  },
  {
   "cell_type": "markdown",
   "id": "1a992523-48ce-46b0-a383-10bc5b6ca3bb",
   "metadata": {},
   "source": [
    "## Translate Chinese into English"
   ]
  },
  {
   "cell_type": "code",
   "execution_count": 5,
   "id": "53cc9209-06ae-4de8-b0a4-269b9a323ac4",
   "metadata": {},
   "outputs": [
    {
     "name": "stderr",
     "output_type": "stream",
     "text": [
      "/home/ubuntu/miniconda3/envs/langchain/lib/python3.10/site-packages/langchain_core/_api/deprecation.py:141: LangChainDeprecationWarning: The method `Chain.run` was deprecated in langchain 0.1.0 and will be removed in 1.0. Use invoke instead.\n",
      "  warn_deprecated(\n"
     ]
    },
    {
     "data": {
      "text/plain": [
       "'I enjoy studying large language models, finding it easy, simple, and enjoyable. \\n'"
      ]
     },
     "execution_count": 5,
     "metadata": {},
     "output_type": "execute_result"
    }
   ],
   "source": [
    "# Execute the translation chain with specific input values\n",
    "translation_chain.run({\n",
    "    \"source_language\": \"Chinese\",\n",
    "    \"target_language\": \"English\",\n",
    "    \"text\": \"我喜欢学习大语言模型，轻松简单又愉快\",\n",
    "})"
   ]
  },
  {
   "cell_type": "markdown",
   "id": "532c5896-484d-4d94-a111-5487b4a381ee",
   "metadata": {},
   "source": [
    "## Translate Chinese into Spanish"
   ]
  },
  {
   "cell_type": "code",
   "execution_count": 6,
   "id": "e728621c-008e-4c2b-bb57-483f1ee4c1e8",
   "metadata": {},
   "outputs": [
    {
     "data": {
      "text/plain": [
       "'Me encanta estudiar los grandes modelos de lenguaje, es fácil, simple y muy agradable. \\n'"
      ]
     },
     "execution_count": 6,
     "metadata": {},
     "output_type": "execute_result"
    }
   ],
   "source": [
    "translation_chain.run({\n",
    "    \"source_language\": \"Chinese\",\n",
    "    \"target_language\": \"Spanish\",\n",
    "    \"text\": \"我喜欢学习大语言模型，轻松简单又愉快\",\n",
    "})"
   ]
  },
  {
   "cell_type": "markdown",
   "id": "6f05f4a3-3af6-40bf-a964-557a8c1bf9ab",
   "metadata": {},
   "source": [
    "## Translate Chinese into Japanese"
   ]
  },
  {
   "cell_type": "code",
   "execution_count": 7,
   "id": "183455b3-9cf1-42b4-be91-9c699248266a",
   "metadata": {},
   "outputs": [
    {
     "data": {
      "text/plain": [
       "'私は大言語モデルを学習するのが好きです。簡単で楽しいのがいいですね。 \\n'"
      ]
     },
     "execution_count": 7,
     "metadata": {},
     "output_type": "execute_result"
    }
   ],
   "source": [
    "translation_chain.run({\n",
    "    \"source_language\": \"Chinese\",\n",
    "    \"target_language\": \"Japanese\",\n",
    "    \"text\": \"我喜欢学习大语言模型，轻松简单又愉快\",\n",
    "})"
   ]
  },
  {
   "cell_type": "code",
   "execution_count": null,
   "id": "38ee618a-bbaa-476f-80e6-8d22a81fddf6",
   "metadata": {},
   "outputs": [],
   "source": []
  }
 ],
 "metadata": {
  "kernelspec": {
   "display_name": "Python 3 (ipykernel)",
   "language": "python",
   "name": "python3"
  },
  "language_info": {
   "codemirror_mode": {
    "name": "ipython",
    "version": 3
   },
   "file_extension": ".py",
   "mimetype": "text/x-python",
   "name": "python",
   "nbconvert_exporter": "python",
   "pygments_lexer": "ipython3",
   "version": "3.10.14"
  }
 },
 "nbformat": 4,
 "nbformat_minor": 5
}
